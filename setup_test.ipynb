{
 "cells": [
  {
   "cell_type": "code",
   "execution_count": 1,
   "id": "bf1901a7-79e3-43c8-a470-a5a3528d7fb1",
   "metadata": {},
   "outputs": [],
   "source": [
    "import pandas"
   ]
  },
  {
   "cell_type": "code",
   "execution_count": 2,
   "id": "4ac91964-20ce-4e96-ba9b-a5ef3bbe9828",
   "metadata": {},
   "outputs": [],
   "source": [
    "import xarray"
   ]
  },
  {
   "cell_type": "code",
   "execution_count": 3,
   "id": "11351ba2-56e6-4446-9bf3-0b248a5fd363",
   "metadata": {},
   "outputs": [],
   "source": [
    "import iris"
   ]
  },
  {
   "cell_type": "code",
   "execution_count": 4,
   "id": "0324cc5f-0001-4c6f-a1f3-4abf09e62844",
   "metadata": {},
   "outputs": [],
   "source": [
    "import matplotlib"
   ]
  },
  {
   "cell_type": "code",
   "execution_count": 5,
   "id": "dc8b8d7b-6500-4b9c-9ffb-286c5517f3d8",
   "metadata": {},
   "outputs": [],
   "source": [
    "import sklearn"
   ]
  },
  {
   "cell_type": "markdown",
   "id": "7c50a1b9-6ac5-4008-a160-63170a9caa2f",
   "metadata": {},
   "source": [
    "If you all of these have successfully imported then your conda environment is correctly set up."
   ]
  },
  {
   "cell_type": "code",
   "execution_count": null,
   "id": "6b2018e4-4e7b-414d-ae8c-1bfae0cf5396",
   "metadata": {},
   "outputs": [],
   "source": []
  }
 ],
 "metadata": {
  "kernelspec": {
   "display_name": "Python 3 (ipykernel)",
   "language": "python",
   "name": "python3"
  },
  "language_info": {
   "codemirror_mode": {
    "name": "ipython",
    "version": 3
   },
   "file_extension": ".py",
   "mimetype": "text/x-python",
   "name": "python",
   "nbconvert_exporter": "python",
   "pygments_lexer": "ipython3",
   "version": "3.8.13"
  }
 },
 "nbformat": 4,
 "nbformat_minor": 5
}
